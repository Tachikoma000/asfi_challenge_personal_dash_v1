{
 "cells": [
  {
   "cell_type": "code",
   "execution_count": null,
   "metadata": {
    "collapsed": true
   },
   "outputs": [],
   "source": [
    "import dash\n",
    "from dash import dcc\n",
    "import dash_bootstrap_components as dbc\n",
    "from dash import html, State\n",
    "from dash.dependencies import Input, Output\n",
    "import base64\n",
    "import requests\n",
    "import plotly.graph_objects as go\n",
    "import pandas as pd\n",
    "import numpy as np\n",
    "import math\n",
    "from millify import millify"
   ]
  },
  {
   "cell_type": "code",
   "execution_count": null,
   "outputs": [],
   "source": [
    "def run_query(q):\n",
    "    request = requests.post('https://api.thegraph.com/subgraphs/name/cujowolf/ohmie-dashboard-info'\n",
    "                            '',\n",
    "                            json={'query': query})\n",
    "    if request.status_code == 200:\n",
    "        return request.json()\n",
    "    else:\n",
    "        raise Exception('Query failed. return code is {}.      {}'.format(request.status_code, query))\n",
    "\n",
    "\n",
    "# this will be the user address field\n",
    "query = \"\"\"\n",
    "{\n",
    "ohmieBalances(first: 100, orderBy: timestamp, orderDirection: desc,\n",
    "where: {ohmie:\"0x37c698b808b18bb5aaa91ddf92ef04d6e7d4f99e\"}){\n",
    "timestamp\n",
    "sohmIndexed\n",
    "sohmBalance\n",
    "}\n",
    "rebases(first: 100, orderBy: timestamp, orderDirection: asc)\n",
    "{\n",
    "timestamp\n",
    "index\n",
    "}\n",
    "}\n",
    "\"\"\""
   ],
   "metadata": {
    "collapsed": false,
    "pycharm": {
     "name": "#%%\n"
    }
   }
  },
  {
   "cell_type": "code",
   "execution_count": null,
   "outputs": [],
   "source": [
    "result = run_query(query)\n",
    "print(result)"
   ],
   "metadata": {
    "collapsed": false,
    "pycharm": {
     "name": "#%%\n"
    }
   }
  },
  {
   "cell_type": "code",
   "execution_count": null,
   "outputs": [],
   "source": [],
   "metadata": {
    "collapsed": false,
    "pycharm": {
     "name": "#%%\n"
    }
   }
  }
 ],
 "metadata": {
  "kernelspec": {
   "display_name": "Python 3",
   "language": "python",
   "name": "python3"
  },
  "language_info": {
   "codemirror_mode": {
    "name": "ipython",
    "version": 2
   },
   "file_extension": ".py",
   "mimetype": "text/x-python",
   "name": "python",
   "nbconvert_exporter": "python",
   "pygments_lexer": "ipython2",
   "version": "2.7.6"
  }
 },
 "nbformat": 4,
 "nbformat_minor": 0
}